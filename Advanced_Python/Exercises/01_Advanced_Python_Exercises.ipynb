{
 "cells": [
  {
   "cell_type": "markdown",
   "id": "a49d0355",
   "metadata": {},
   "source": [
    "# Advanced Python: Exercises\n",
    "\n",
    "Practice your skills with these hands-on problems.\n",
    "\n",
    "---"
   ]
  },
  {
   "cell_type": "markdown",
   "id": "052cddf0",
   "metadata": {},
   "source": [
    "## 1. Iterators & Generators\n",
    "\n",
    "**a.** Write a custom iterator that returns the even numbers from 2 to 10.\n",
    "\n",
    "**b.** Write a generator that yields the Fibonacci sequence up to n."
   ]
  },
  {
   "cell_type": "code",
   "execution_count": null,
   "id": "892a63e1",
   "metadata": {},
   "outputs": [],
   "source": [
    "# 1a. Custom iterator for even numbers"
   ]
  },
  {
   "cell_type": "code",
   "execution_count": null,
   "id": "b8b5ec3f",
   "metadata": {},
   "outputs": [],
   "source": [
    "# 1b. Fibonacci generator"
   ]
  },
  {
   "cell_type": "markdown",
   "id": "924767d7",
   "metadata": {},
   "source": [
    "## 2. Decorators\n",
    "\n",
    "**a.** Write a decorator that prints the arguments and result of a function.\n",
    "\n",
    "**b.** Write a decorator that only allows a function to run once."
   ]
  },
  {
   "cell_type": "code",
   "execution_count": null,
   "id": "b9442490",
   "metadata": {},
   "outputs": [],
   "source": [
    "# 2a. Print arguments and result decorator"
   ]
  },
  {
   "cell_type": "code",
   "execution_count": null,
   "id": "bf9fc11d",
   "metadata": {},
   "outputs": [],
   "source": [
    "# 2b. Run-once decorator"
   ]
  },
  {
   "cell_type": "markdown",
   "id": "b342bbde",
   "metadata": {},
   "source": [
    "## 3. Context Managers\n",
    "\n",
    "**a.** Write a context manager that logs entry and exit.\n",
    "\n",
    "**b.** Write a context manager that temporarily changes the working directory."
   ]
  },
  {
   "cell_type": "code",
   "execution_count": null,
   "id": "2690ead9",
   "metadata": {},
   "outputs": [],
   "source": [
    "# 3a. Logging context manager"
   ]
  },
  {
   "cell_type": "code",
   "execution_count": null,
   "id": "7d21da24",
   "metadata": {},
   "outputs": [],
   "source": [
    "# 3b. Working directory context manager"
   ]
  },
  {
   "cell_type": "markdown",
   "id": "3c568132",
   "metadata": {},
   "source": [
    "## 4. Metaclasses\n",
    "\n",
    "**a.** Write a metaclass that prints a message every time a new class is created.\n",
    "\n",
    "**b.** Write a metaclass that prevents subclassing."
   ]
  },
  {
   "cell_type": "code",
   "execution_count": null,
   "id": "81f005a5",
   "metadata": {},
   "outputs": [],
   "source": [
    "# 4a. Metaclass that prints on class creation"
   ]
  },
  {
   "cell_type": "code",
   "execution_count": null,
   "id": "97f0b66e",
   "metadata": {},
   "outputs": [],
   "source": [
    "# 4b. Metaclass that prevents subclassing"
   ]
  }
 ],
 "metadata": {
  "language_info": {
   "name": "python"
  }
 },
 "nbformat": 4,
 "nbformat_minor": 5
}
