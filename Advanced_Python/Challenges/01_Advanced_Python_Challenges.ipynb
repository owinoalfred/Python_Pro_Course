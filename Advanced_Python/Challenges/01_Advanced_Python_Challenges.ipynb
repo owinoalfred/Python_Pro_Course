{
 "cells": [
  {
   "cell_type": "markdown",
   "id": "d5b88c11",
   "metadata": {},
   "source": [
    "# Advanced Python: Challenges\n",
    "\n",
    "Tackle these advanced, interview-style, and project-based problems to test your mastery.\n",
    "\n",
    "---"
   ]
  },
  {
   "cell_type": "markdown",
   "id": "99fd5b42",
   "metadata": {},
   "source": [
    "## 1. Interview-Style Coding Challenge\n",
    "\n",
    "**LRU Cache:**\n",
    "Implement a Least Recently Used (LRU) cache using a decorator. The cache should have a fixed size and evict the least recently used item when full.\n",
    "\n",
    "**Constraints:**\n",
    "- Use only built-in data structures.\n",
    "- Support any function signature.\n",
    "\n",
    "**Sample Usage:**\n",
    "```python\n",
    "@lru_cache(maxsize=3)\n",
    "def add(a, b):\n",
    "    return a + b\n",
    "```"
   ]
  },
  {
   "cell_type": "markdown",
   "id": "8380c994",
   "metadata": {},
   "source": [
    "## 2. Advanced Generator Pipeline\n",
    "\n",
    "Create a generator-based pipeline that reads lines from a file, filters lines containing a keyword, and maps them to their lengths.\n",
    "\n",
    "**Constraints:**\n",
    "- Use only generator functions.\n",
    "- No list comprehensions.\n",
    "\n",
    "**Sample Usage:**\n",
    "```python\n",
    "for length in pipeline('data.txt', 'error'):\n",
    "    print(length)\n",
    "```"
   ]
  },
  {
   "cell_type": "markdown",
   "id": "68354911",
   "metadata": {},
   "source": [
    "## 3. Mini-Project: Custom Context Manager Logger\n",
    "\n",
    "Build a context manager that logs all print statements to a file while inside the context.\n",
    "\n",
    "**Requirements:**\n",
    "- Redirect all print output to a log file.\n",
    "- Restore normal print behavior after exiting the context.\n",
    "\n",
    "**Sample Usage:**\n",
    "```python\n",
    "with LogToFile('output.log'):\n",
    "    print('This goes to the file!')\n",
    "print('This goes to the console!')\n",
    "```"
   ]
  }
 ],
 "metadata": {
  "language_info": {
   "name": "python"
  }
 },
 "nbformat": 4,
 "nbformat_minor": 5
}
