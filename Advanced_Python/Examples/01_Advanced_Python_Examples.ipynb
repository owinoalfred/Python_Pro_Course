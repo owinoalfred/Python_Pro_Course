{
 "cells": [
  {
   "cell_type": "markdown",
   "id": "a08fca0d",
   "metadata": {},
   "source": [
    "# Advanced Python: Practical Examples\n",
    "\n",
    "Explore real-world code samples that demonstrate advanced Python features in action.\n",
    "\n",
    "---"
   ]
  },
  {
   "cell_type": "markdown",
   "id": "cdc471f2",
   "metadata": {},
   "source": [
    "## Example 1: Using Generators for Large Data Processing\n",
    "\n",
    "Generators are memory-efficient for processing large datasets."
   ]
  },
  {
   "cell_type": "code",
   "execution_count": null,
   "id": "1410bdca",
   "metadata": {},
   "outputs": [],
   "source": [
    "def read_large_file(filename):\n",
    "    with open(filename) as f:\n",
    "        for line in f:\n",
    "            yield line.strip()\n",
    "\n",
    "# Usage: for line in read_large_file('big.txt'): ..."
   ]
  },
  {
   "cell_type": "markdown",
   "id": "dcc4529d",
   "metadata": {},
   "source": [
    "## Example 2: Chaining Decorators\n",
    "\n",
    "Decorators can be combined to add multiple layers of functionality."
   ]
  },
  {
   "cell_type": "code",
   "execution_count": null,
   "id": "a0037dda",
   "metadata": {},
   "outputs": [],
   "source": [
    "def uppercase(func):\n",
    "    def wrapper(*args, **kwargs):\n",
    "        return func(*args, **kwargs).upper()\n",
    "    return wrapper\n",
    "\n",
    "def exclaim(func):\n",
    "    def wrapper(*args, **kwargs):\n",
    "        return func(*args, **kwargs) + '!'\n",
    "    return wrapper\n",
    "\n",
    "@exclaim\n",
    "@uppercase\n",
    "def greet(name):\n",
    "    return f'hello, {name}'\n",
    "\n",
    "print(greet('world'))  # HELLO, WORLD!"
   ]
  },
  {
   "cell_type": "markdown",
   "id": "a04e1f23",
   "metadata": {},
   "source": [
    "## Example 3: Context Manager for Database Connections\n",
    "\n",
    "Context managers ensure resources are properly managed."
   ]
  },
  {
   "cell_type": "code",
   "execution_count": null,
   "id": "4b5f5b8a",
   "metadata": {},
   "outputs": [],
   "source": [
    "import sqlite3\n",
    "class DBConnection:\n",
    "    def __init__(self, db):\n",
    "        self.db = db\n",
    "    def __enter__(self):\n",
    "        self.conn = sqlite3.connect(self.db)\n",
    "        return self.conn\n",
    "    def __exit__(self, exc_type, exc_val, exc_tb):\n",
    "        self.conn.close()\n",
    "\n",
    "with DBConnection(':memory:') as conn:\n",
    "    c = conn.cursor()\n",
    "    c.execute('CREATE TABLE test (id INT)')"
   ]
  },
  {
   "cell_type": "markdown",
   "id": "4ea0ad45",
   "metadata": {},
   "source": [
    "## Best Practices\n",
    "\n",
    "- Use generators for large or infinite data streams.\n",
    "- Decorators should preserve function metadata (use `functools.wraps`).\n",
    "- Always close files and database connections (use context managers).\n",
    "- Avoid overusing metaclasses; prefer composition and inheritance."
   ]
  },
  {
   "cell_type": "markdown",
   "id": "7b266d28",
   "metadata": {},
   "source": [
    "## Common Pitfalls\n",
    "\n",
    "- Forgetting to use `yield` in a generator function.\n",
    "- Not handling exceptions in context managers.\n",
    "- Using mutable default arguments in functions.\n",
    "- Creating memory leaks by not closing resources."
   ]
  }
 ],
 "metadata": {
  "language_info": {
   "name": "python"
  }
 },
 "nbformat": 4,
 "nbformat_minor": 5
}
