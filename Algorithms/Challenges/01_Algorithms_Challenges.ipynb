{
 "cells": [
  {
   "cell_type": "markdown",
   "id": "05b7d87a",
   "metadata": {},
   "source": [
    "# Algorithms: Challenges\n",
    "\n",
    "Tackle these advanced, interview-style, and project-based problems to test your mastery.\n",
    "\n",
    "---"
   ]
  },
  {
   "cell_type": "markdown",
   "id": "0b215332",
   "metadata": {},
   "source": [
    "## 1. Interview-Style Coding Challenge\n",
    "\n",
    "**LRU Cache:**\n",
    "Implement a Least Recently Used (LRU) cache class with `get` and `put` methods. The cache should have a fixed size and evict the least recently used item when full.\n",
    "\n",
    "**Constraints:**\n",
    "- Use only built-in data structures.\n",
    "- Support O(1) get and put operations.\n",
    "\n",
    "**Sample Usage:**\n",
    "```python\n",
    "cache = LRUCache(2)\n",
    "cache.put(1, 1)\n",
    "cache.put(2, 2)\n",
    "print(cache.get(1))  # returns 1\n",
    "cache.put(3, 3)      # evicts key 2\n",
    "print(cache.get(2))  # returns -1 (not found)\n",
    "```"
   ]
  },
  {
   "cell_type": "markdown",
   "id": "0405a02a",
   "metadata": {},
   "source": [
    "## 2. Advanced Graph Challenge\n",
    "\n",
    "**Dijkstra's Algorithm:**\n",
    "Implement Dijkstra's algorithm to find the shortest path from a source node to all other nodes in a weighted graph.\n",
    "\n",
    "**Constraints:**\n",
    "- Use a priority queue (heapq).\n",
    "- Graph is represented as an adjacency list with weights.\n",
    "\n",
    "**Sample Usage:**\n",
    "```python\n",
    "graph = {\n",
    "    'A': {'B': 1, 'C': 4},\n",
    "    'B': {'A': 1, 'C': 2, 'D': 5},\n",
    "    'C': {'A': 4, 'B': 2, 'D': 1},\n",
    "    'D': {'B': 5, 'C': 1}\n",
    "}\n",
    "print(dijkstra(graph, 'A'))\n",
    "```"
   ]
  },
  {
   "cell_type": "markdown",
   "id": "2273e240",
   "metadata": {},
   "source": [
    "## 3. Mini-Project: Sudoku Solver\n",
    "\n",
    "Build a function to solve a 9x9 Sudoku puzzle using backtracking.\n",
    "\n",
    "**Requirements:**\n",
    "- Input is a 2D list with 0 representing empty cells.\n",
    "- Output is the solved board (in-place).\n",
    "\n",
    "**Sample Usage:**\n",
    "```python\n",
    "board = [\n",
    "    [5,3,0,0,7,0,0,0,0],\n",
    "    [6,0,0,1,9,5,0,0,0],\n",
    "    [0,9,8,0,0,0,0,6,0],\n",
    "    [8,0,0,0,6,0,0,0,3],\n",
    "    [4,0,0,8,0,3,0,0,1],\n",
    "    [7,0,0,0,2,0,0,0,6],\n",
    "    [0,6,0,0,0,0,2,8,0],\n",
    "    [0,0,0,4,1,9,0,0,5],\n",
    "    [0,0,0,0,8,0,0,7,9]\n",
    "]\n",
    "solve_sudoku(board)\n",
    "print(board)\n",
    "```"
   ]
  }
 ],
 "metadata": {
  "language_info": {
   "name": "python"
  }
 },
 "nbformat": 4,
 "nbformat_minor": 5
}
