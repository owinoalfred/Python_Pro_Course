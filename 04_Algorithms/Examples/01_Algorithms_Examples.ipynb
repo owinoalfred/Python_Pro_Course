{
 "cells": [
  {
   "cell_type": "markdown",
   "id": "37619f09",
   "metadata": {},
   "source": [
    "# Algorithms: Practical Examples\n",
    "\n",
    "Explore real-world code samples that demonstrate algorithmic techniques in action.\n",
    "\n",
    "---"
   ]
  },
  {
   "cell_type": "markdown",
   "id": "a3e435c5",
   "metadata": {},
   "source": [
    "## Example 1: Searching for a User in a Database (Linear Search)"
   ]
  },
  {
   "cell_type": "code",
   "execution_count": null,
   "id": "0e9ec38b",
   "metadata": {},
   "outputs": [],
   "source": [
    "users = [\n",
    "    {'id': 1, 'name': 'Alice'},\n",
    "    {'id': 2, 'name': 'Bob'},\n",
    "    {'id': 3, 'name': 'Charlie'}\n",
    "]\n",
    "def find_user(users, name):\n",
    "    for user in users:\n",
    "        if user['name'] == name:\n",
    "            return user\n",
    "    return None\n",
    "print(find_user(users, 'Bob'))"
   ]
  },
  {
   "cell_type": "markdown",
   "id": "83db5f06",
   "metadata": {},
   "source": [
    "## Example 2: Efficient Lookup with Binary Search"
   ]
  },
  {
   "cell_type": "code",
   "execution_count": null,
   "id": "481e3413",
   "metadata": {},
   "outputs": [],
   "source": [
    "def binary_search(arr, target):\n",
    "    left, right = 0, len(arr) - 1\n",
    "    while left <= right:\n",
    "        mid = (left + right) // 2\n",
    "        if arr[mid] == target:\n",
    "            return mid\n",
    "        elif arr[mid] < target:\n",
    "            left = mid + 1\n",
    "        else:\n",
    "            right = mid - 1\n",
    "    return -1\n",
    "\n",
    "sorted_ids = [1, 2, 3, 4, 5, 6]\n",
    "print(binary_search(sorted_ids, 4))"
   ]
  },
  {
   "cell_type": "markdown",
   "id": "383de9c0",
   "metadata": {},
   "source": [
    "## Example 3: Sorting a List of Dictionaries by Key (Using Lambda)"
   ]
  },
  {
   "cell_type": "code",
   "execution_count": null,
   "id": "e7e4d68b",
   "metadata": {},
   "outputs": [],
   "source": [
    "users = [\n",
    "    {'id': 3, 'name': 'Charlie'},\n",
    "    {'id': 1, 'name': 'Alice'},\n",
    "    {'id': 2, 'name': 'Bob'}\n",
    "]\n",
    "users_sorted = sorted(users, key=lambda x: x['id'])\n",
    "print(users_sorted)"
   ]
  },
  {
   "cell_type": "markdown",
   "id": "7e3ed6e4",
   "metadata": {},
   "source": [
    "## Example 4: Using Recursion for File System Traversal"
   ]
  },
  {
   "cell_type": "code",
   "execution_count": null,
   "id": "8245fa69",
   "metadata": {},
   "outputs": [],
   "source": [
    "import os\n",
    "def list_files(path):\n",
    "    for entry in os.listdir(path):\n",
    "        full_path = os.path.join(path, entry)\n",
    "        if os.path.isdir(full_path):\n",
    "            list_files(full_path)\n",
    "        else:\n",
    "            print(full_path)\n",
    "# list_files('.')"
   ]
  },
  {
   "cell_type": "markdown",
   "id": "0a7085e8",
   "metadata": {},
   "source": [
    "## Best Practices\n",
    "\n",
    "- Always analyze time and space complexity before choosing an algorithm.\n",
    "- Use built-in functions and libraries when possible (e.g., `sorted`, `bisect`).\n",
    "- Write tests for edge cases (empty input, large input, duplicates, etc.)."
   ]
  },
  {
   "cell_type": "markdown",
   "id": "5521688e",
   "metadata": {},
   "source": [
    "## Common Pitfalls\n",
    "\n",
    "- Off-by-one errors in loops and recursion.\n",
    "- Not handling empty or invalid input.\n",
    "- Using inefficient algorithms for large data."
   ]
  }
 ],
 "metadata": {
  "language_info": {
   "name": "python"
  }
 },
 "nbformat": 4,
 "nbformat_minor": 5
}
