{
 "cells": [
  {
   "cell_type": "markdown",
   "id": "5760bb0d",
   "metadata": {},
   "source": [
    "# Algorithms: Solutions\n",
    "\n",
    "Detailed solutions and explanations for the exercises.\n",
    "\n",
    "---"
   ]
  },
  {
   "cell_type": "markdown",
   "id": "11233ffa",
   "metadata": {},
   "source": [
    "## 1. Searching\n",
    "\n",
    "**a. Linear search:**"
   ]
  },
  {
   "cell_type": "code",
   "execution_count": null,
   "id": "568e99d1",
   "metadata": {},
   "outputs": [],
   "source": [
    "def linear_search(arr, target):\n",
    "    for i, value in enumerate(arr):\n",
    "        if value == target:\n",
    "            return i\n",
    "    return -1\n",
    "# Example: linear_search([1,2,3], 2) -> 1"
   ]
  },
  {
   "cell_type": "markdown",
   "id": "9a807116",
   "metadata": {},
   "source": [
    "**b. Binary search:**"
   ]
  },
  {
   "cell_type": "code",
   "execution_count": null,
   "id": "44c65e4d",
   "metadata": {},
   "outputs": [],
   "source": [
    "def binary_search(arr, target):\n",
    "    left, right = 0, len(arr) - 1\n",
    "    while left <= right:\n",
    "        mid = (left + right) // 2\n",
    "        if arr[mid] == target:\n",
    "            return True\n",
    "        elif arr[mid] < target:\n",
    "            left = mid + 1\n",
    "        else:\n",
    "            right = mid - 1\n",
    "    return False\n",
    "# Example: binary_search([1,2,3], 2) -> True"
   ]
  },
  {
   "cell_type": "markdown",
   "id": "7f1757f8",
   "metadata": {},
   "source": [
    "## 2. Sorting\n",
    "\n",
    "**a. Bubble sort:**"
   ]
  },
  {
   "cell_type": "code",
   "execution_count": null,
   "id": "398cf8b6",
   "metadata": {},
   "outputs": [],
   "source": [
    "def bubble_sort(arr):\n",
    "    n = len(arr)\n",
    "    for i in range(n):\n",
    "        for j in range(0, n-i-1):\n",
    "            if arr[j] > arr[j+1]:\n",
    "                arr[j], arr[j+1] = arr[j+1], arr[j]\n",
    "    return arr\n",
    "# Example: bubble_sort([3,1,2]) -> [1,2,3]"
   ]
  },
  {
   "cell_type": "markdown",
   "id": "5d7e673f",
   "metadata": {},
   "source": [
    "**b. Merge sort:**"
   ]
  },
  {
   "cell_type": "code",
   "execution_count": null,
   "id": "20967910",
   "metadata": {},
   "outputs": [],
   "source": [
    "def merge_sort(arr):\n",
    "    if len(arr) <= 1:\n",
    "        return arr\n",
    "    mid = len(arr) // 2\n",
    "    left = merge_sort(arr[:mid])\n",
    "    right = merge_sort(arr[mid:])\n",
    "    return merge(left, right)\n",
    "def merge(left, right):\n",
    "    result = []\n",
    "    i = j = 0\n",
    "    while i < len(left) and j < len(right):\n",
    "        if left[i] < right[j]:\n",
    "            result.append(left[i])\n",
    "            i += 1\n",
    "        else:\n",
    "            result.append(right[j])\n",
    "            j += 1\n",
    "    result.extend(left[i:])\n",
    "    result.extend(right[j:])\n",
    "    return result\n",
    "# Example: merge_sort([3,1,2]) -> [1,2,3]"
   ]
  },
  {
   "cell_type": "markdown",
   "id": "18c9c6fe",
   "metadata": {},
   "source": [
    "## 3. Recursion\n",
    "\n",
    "**a. Recursive Fibonacci:**"
   ]
  },
  {
   "cell_type": "code",
   "execution_count": null,
   "id": "77e295cc",
   "metadata": {},
   "outputs": [],
   "source": [
    "def fibonacci(n):\n",
    "    if n <= 1:\n",
    "        return n\n",
    "    return fibonacci(n-1) + fibonacci(n-2)\n",
    "# Example: fibonacci(5) -> 5"
   ]
  },
  {
   "cell_type": "markdown",
   "id": "1222c08f",
   "metadata": {},
   "source": [
    "**b. Recursive sum:**"
   ]
  },
  {
   "cell_type": "code",
   "execution_count": null,
   "id": "fbb0b095",
   "metadata": {},
   "outputs": [],
   "source": [
    "def recursive_sum(lst):\n",
    "    if not lst:\n",
    "        return 0\n",
    "    return lst[0] + recursive_sum(lst[1:])\n",
    "# Example: recursive_sum([1,2,3]) -> 6"
   ]
  },
  {
   "cell_type": "markdown",
   "id": "3b1663ae",
   "metadata": {},
   "source": [
    "## 4. Dynamic Programming\n",
    "\n",
    "**a. Fibonacci with memoization:**"
   ]
  },
  {
   "cell_type": "code",
   "execution_count": null,
   "id": "e17f69e4",
   "metadata": {},
   "outputs": [],
   "source": [
    "def fib_memo(n, memo={}):\n",
    "    if n in memo:\n",
    "        return memo[n]\n",
    "    if n <= 2:\n",
    "        return 1\n",
    "    memo[n] = fib_memo(n-1, memo) + fib_memo(n-2, memo)\n",
    "    return memo[n]\n",
    "# Example: fib_memo(6) -> 8"
   ]
  },
  {
   "cell_type": "markdown",
   "id": "06b5e00e",
   "metadata": {},
   "source": [
    "**b. Coin change problem:**"
   ]
  },
  {
   "cell_type": "code",
   "execution_count": null,
   "id": "f1d77326",
   "metadata": {},
   "outputs": [],
   "source": [
    "def coin_change(coins, amount):\n",
    "    dp = [float('inf')] * (amount + 1)\n",
    "    dp[0] = 0\n",
    "    for coin in coins:\n",
    "        for x in range(coin, amount + 1):\n",
    "            dp[x] = min(dp[x], dp[x - coin] + 1)\n",
    "    return dp[amount] if dp[amount] != float('inf') else -1\n",
    "# Example: coin_change([1,2,5], 11) -> 3"
   ]
  },
  {
   "cell_type": "markdown",
   "id": "1cbf7b1f",
   "metadata": {},
   "source": [
    "## 5. Graph Algorithms\n",
    "\n",
    "**a. BFS:**"
   ]
  },
  {
   "cell_type": "code",
   "execution_count": null,
   "id": "727047aa",
   "metadata": {},
   "outputs": [],
   "source": [
    "from collections import deque\n",
    "def bfs(graph, start):\n",
    "    visited = set()\n",
    "    queue = deque([start])\n",
    "    while queue:\n",
    "        node = queue.popleft()\n",
    "        if node not in visited:\n",
    "            print(node)\n",
    "            visited.add(node)\n",
    "            queue.extend(graph[node] - visited)\n",
    "# Example: bfs({'A': {'B','C'}, 'B': {'A'}, 'C': {'A'}}, 'A')"
   ]
  },
  {
   "cell_type": "markdown",
   "id": "583f5bb6",
   "metadata": {},
   "source": [
    "**b. DFS:**"
   ]
  },
  {
   "cell_type": "code",
   "execution_count": null,
   "id": "4ec8f0cb",
   "metadata": {},
   "outputs": [],
   "source": [
    "def dfs(graph, start, visited=None):\n",
    "    if visited is None:\n",
    "        visited = set()\n",
    "    visited.add(start)\n",
    "    print(start)\n",
    "    for neighbor in graph[start]:\n",
    "        if neighbor not in visited:\n",
    "            dfs(graph, neighbor, visited)\n",
    "# Example: dfs({'A': {'B','C'}, 'B': {'A'}, 'C': {'A'}}, 'A')"
   ]
  }
 ],
 "metadata": {
  "language_info": {
   "name": "python"
  }
 },
 "nbformat": 4,
 "nbformat_minor": 5
}
