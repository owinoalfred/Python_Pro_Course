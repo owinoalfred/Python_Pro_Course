{
 "cells": [
  {
   "cell_type": "markdown",
   "id": "b2a6fd54",
   "metadata": {},
   "source": [
    "# Algorithms: Exercises\n",
    "\n",
    "Practice your skills with these hands-on algorithm problems.\n",
    "\n",
    "---"
   ]
  },
  {
   "cell_type": "markdown",
   "id": "91de10a3",
   "metadata": {},
   "source": [
    "## 1. Searching\n",
    "\n",
    "**a.** Write a function to find the index of a target value in a list (linear search).\n",
    "\n",
    "**b.** Write a function to check if a target exists in a sorted list (binary search)."
   ]
  },
  {
   "cell_type": "code",
   "execution_count": null,
   "id": "1f7d7eaf",
   "metadata": {},
   "outputs": [],
   "source": [
    "# 1a. Linear search"
   ]
  },
  {
   "cell_type": "code",
   "execution_count": null,
   "id": "abf21c5a",
   "metadata": {},
   "outputs": [],
   "source": [
    "# 1b. Binary search"
   ]
  },
  {
   "cell_type": "markdown",
   "id": "adb45eeb",
   "metadata": {},
   "source": [
    "## 2. Sorting\n",
    "\n",
    "**a.** Implement bubble sort for a list of numbers.\n",
    "\n",
    "**b.** Implement merge sort for a list of numbers."
   ]
  },
  {
   "cell_type": "code",
   "execution_count": null,
   "id": "51171826",
   "metadata": {},
   "outputs": [],
   "source": [
    "# 2a. Bubble sort"
   ]
  },
  {
   "cell_type": "code",
   "execution_count": null,
   "id": "cf855604",
   "metadata": {},
   "outputs": [],
   "source": [
    "# 2b. Merge sort"
   ]
  },
  {
   "cell_type": "markdown",
   "id": "1ab92808",
   "metadata": {},
   "source": [
    "## 3. Recursion\n",
    "\n",
    "**a.** Write a recursive function to compute the nth Fibonacci number.\n",
    "\n",
    "**b.** Write a recursive function to sum all elements in a list."
   ]
  },
  {
   "cell_type": "code",
   "execution_count": null,
   "id": "038671b9",
   "metadata": {},
   "outputs": [],
   "source": [
    "# 3a. Recursive Fibonacci"
   ]
  },
  {
   "cell_type": "code",
   "execution_count": null,
   "id": "e8a62ed5",
   "metadata": {},
   "outputs": [],
   "source": [
    "# 3b. Recursive sum"
   ]
  },
  {
   "cell_type": "markdown",
   "id": "9d03eb61",
   "metadata": {},
   "source": [
    "## 4. Dynamic Programming\n",
    "\n",
    "**a.** Write a function to compute the nth Fibonacci number using memoization.\n",
    "\n",
    "**b.** Write a function to find the minimum number of coins for a given amount (coin change problem)."
   ]
  },
  {
   "cell_type": "code",
   "execution_count": null,
   "id": "2dc06c8c",
   "metadata": {},
   "outputs": [],
   "source": [
    "# 4a. Fibonacci with memoization"
   ]
  },
  {
   "cell_type": "code",
   "execution_count": null,
   "id": "cd762a87",
   "metadata": {},
   "outputs": [],
   "source": [
    "# 4b. Coin change problem"
   ]
  },
  {
   "cell_type": "markdown",
   "id": "12b49a85",
   "metadata": {},
   "source": [
    "## 5. Graph Algorithms\n",
    "\n",
    "**a.** Write a function to perform BFS on a graph.\n",
    "\n",
    "**b.** Write a function to perform DFS on a graph."
   ]
  },
  {
   "cell_type": "code",
   "execution_count": null,
   "id": "2bdc4ff5",
   "metadata": {},
   "outputs": [],
   "source": [
    "# 5a. BFS"
   ]
  },
  {
   "cell_type": "code",
   "execution_count": null,
   "id": "4ee2ec6e",
   "metadata": {},
   "outputs": [],
   "source": [
    "# 5b. DFS"
   ]
  }
 ],
 "metadata": {
  "language_info": {
   "name": "python"
  }
 },
 "nbformat": 4,
 "nbformat_minor": 5
}
