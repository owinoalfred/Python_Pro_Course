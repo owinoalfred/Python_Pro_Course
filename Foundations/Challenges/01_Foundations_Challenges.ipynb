{
 "cells": [
  {
   "cell_type": "markdown",
   "id": "c159d060",
   "metadata": {},
   "source": [
    "# Foundations: Challenges\n",
    "\n",
    "This notebook presents advanced, open-ended challenges to test your mastery of programming foundations, algorithms, and data structures. These problems are designed to encourage creative problem-solving and deeper understanding.\n",
    "\n",
    "---\n",
    "\n",
    "## Table of Contents\n",
    "1. [Algorithm Design Challenge](#algorithm-design-challenge)\n",
    "2. [Data Structure Implementation Challenge](#data-structure-implementation-challenge)\n",
    "3. [Complexity Analysis Challenge](#complexity-analysis-challenge)\n",
    "4. [Recursion Challenge](#recursion-challenge)\n",
    "5. [Problem Solving Challenge](#problem-solving-challenge)\n",
    "\n",
    "---"
   ]
  },
  {
   "cell_type": "markdown",
   "id": "246539a7",
   "metadata": {},
   "source": [
    "## 1. Algorithm Design Challenge\n",
    "\n",
    "Design an efficient algorithm to find the first non-repeated character in a string. Analyze its time and space complexity.\n",
    "\n",
    "---\n",
    "\n",
    "## 2. Data Structure Implementation Challenge\n",
    "\n",
    "Implement a stack and a queue from scratch in Python (without using built-in list methods like pop or append for stack/queue operations). Demonstrate their usage.\n",
    "\n",
    "---\n",
    "\n",
    "## 3. Complexity Analysis Challenge\n",
    "\n",
    "Given a function that contains nested loops, analyze and explain its time complexity. Suggest ways to optimize it.\n",
    "\n",
    "---\n",
    "\n",
    "## 4. Recursion Challenge\n",
    "\n",
    "Write a recursive function to generate all permutations of a list of numbers. Discuss the base case and recursive step.\n",
    "\n",
    "---\n",
    "\n",
    "## 5. Problem Solving Challenge\n",
    "\n",
    "Given a list of integers, find the longest increasing subsequence. Implement an efficient solution and explain your approach.\n",
    "\n",
    "---"
   ]
  }
 ],
 "metadata": {
  "language_info": {
   "name": "python"
  }
 },
 "nbformat": 4,
 "nbformat_minor": 5
}
