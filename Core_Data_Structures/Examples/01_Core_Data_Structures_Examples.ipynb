{
 "cells": [
  {
   "cell_type": "markdown",
   "id": "e79adedc",
   "metadata": {},
   "source": [
    "# Core Data Structures: Practical Examples\n",
    "\n",
    "Explore real-world code samples that demonstrate the use of Python's core data structures.\n",
    "\n",
    "---"
   ]
  },
  {
   "cell_type": "markdown",
   "id": "40083a5b",
   "metadata": {},
   "source": [
    "## Example 1: Counting Word Frequency with Dictionaries"
   ]
  },
  {
   "cell_type": "code",
   "execution_count": null,
   "id": "fd0b4c93",
   "metadata": {},
   "outputs": [],
   "source": [
    "text = 'the quick brown fox jumps over the lazy dog the fox'\n",
    "words = text.split()\n",
    "freq = {}\n",
    "for word in words:\n",
    "    freq[word] = freq.get(word, 0) + 1\n",
    "print(freq)"
   ]
  },
  {
   "cell_type": "markdown",
   "id": "6537e2ab",
   "metadata": {},
   "source": [
    "## Example 2: Removing Duplicates with Sets"
   ]
  },
  {
   "cell_type": "code",
   "execution_count": null,
   "id": "f8da8364",
   "metadata": {},
   "outputs": [],
   "source": [
    "nums = [1, 2, 2, 3, 4, 4, 5]\n",
    "unique = set(nums)\n",
    "print(unique)"
   ]
  },
  {
   "cell_type": "markdown",
   "id": "96549df5",
   "metadata": {},
   "source": [
    "## Example 3: Implementing a Stack with a List"
   ]
  },
  {
   "cell_type": "code",
   "execution_count": null,
   "id": "a3e5838c",
   "metadata": {},
   "outputs": [],
   "source": [
    "stack = []\n",
    "stack.append(1)\n",
    "stack.append(2)\n",
    "print(stack.pop())  # 2\n",
    "print(stack)        # [1]"
   ]
  },
  {
   "cell_type": "markdown",
   "id": "cbf51716",
   "metadata": {},
   "source": [
    "## Example 4: Implementing a Queue with collections.deque"
   ]
  },
  {
   "cell_type": "code",
   "execution_count": null,
   "id": "25e6469a",
   "metadata": {},
   "outputs": [],
   "source": [
    "from collections import deque\n",
    "queue = deque()\n",
    "queue.append(1)\n",
    "queue.append(2)\n",
    "print(queue.popleft())  # 1\n",
    "print(queue)            # deque([2])"
   ]
  },
  {
   "cell_type": "markdown",
   "id": "e2da40bc",
   "metadata": {},
   "source": [
    "## Best Practices\n",
    "\n",
    "- Use lists for ordered, mutable collections.\n",
    "- Use sets for uniqueness and fast membership tests.\n",
    "- Use dictionaries for key-value mapping.\n",
    "- Use deque for efficient queue operations."
   ]
  },
  {
   "cell_type": "markdown",
   "id": "fe20a3b8",
   "metadata": {},
   "source": [
    "## Common Pitfalls\n",
    "\n",
    "- Using lists for queue operations (inefficient pops from front).\n",
    "- Forgetting that sets are unordered.\n",
    "- Using mutable objects as dictionary keys."
   ]
  }
 ],
 "metadata": {
  "language_info": {
   "name": "python"
  }
 },
 "nbformat": 4,
 "nbformat_minor": 5
}
