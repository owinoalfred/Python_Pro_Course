{
 "cells": [
  {
   "cell_type": "markdown",
   "id": "801b121b",
   "metadata": {},
   "source": [
    "# Core Data Structures: Exercises\n",
    "\n",
    "Practice your skills with these hands-on data structure problems.\n",
    "\n",
    "---"
   ]
  },
  {
   "cell_type": "markdown",
   "id": "2f21472c",
   "metadata": {},
   "source": [
    "## 1. Lists\n",
    "\n",
    "**a.** Write a function to reverse a list in place.\n",
    "\n",
    "**b.** Write a function to remove all duplicates from a list."
   ]
  },
  {
   "cell_type": "code",
   "execution_count": null,
   "id": "12be500a",
   "metadata": {},
   "outputs": [],
   "source": [
    "# 1a. Reverse a list in place"
   ]
  },
  {
   "cell_type": "code",
   "execution_count": null,
   "id": "2d8e7711",
   "metadata": {},
   "outputs": [],
   "source": [
    "# 1b. Remove duplicates from a list"
   ]
  },
  {
   "cell_type": "markdown",
   "id": "ce8e247d",
   "metadata": {},
   "source": [
    "## 2. Tuples\n",
    "\n",
    "**a.** Write a function that swaps the values of two variables using tuple unpacking."
   ]
  },
  {
   "cell_type": "code",
   "execution_count": null,
   "id": "e79e30e2",
   "metadata": {},
   "outputs": [],
   "source": [
    "# 2a. Swap values using tuple unpacking"
   ]
  },
  {
   "cell_type": "markdown",
   "id": "d38bbcef",
   "metadata": {},
   "source": [
    "## 3. Sets\n",
    "\n",
    "**a.** Write a function to find the intersection of two sets.\n",
    "\n",
    "**b.** Write a function to check if a set is a subset of another."
   ]
  },
  {
   "cell_type": "code",
   "execution_count": null,
   "id": "b6589aef",
   "metadata": {},
   "outputs": [],
   "source": [
    "# 3a. Intersection of two sets"
   ]
  },
  {
   "cell_type": "code",
   "execution_count": null,
   "id": "98bc7a8a",
   "metadata": {},
   "outputs": [],
   "source": [
    "# 3b. Check if set is subset"
   ]
  },
  {
   "cell_type": "markdown",
   "id": "13c5f61a",
   "metadata": {},
   "source": [
    "## 4. Dictionaries\n",
    "\n",
    "**a.** Write a function to invert a dictionary (swap keys and values).\n",
    "\n",
    "**b.** Write a function to count the frequency of each character in a string."
   ]
  },
  {
   "cell_type": "code",
   "execution_count": null,
   "id": "c07f5c21",
   "metadata": {},
   "outputs": [],
   "source": [
    "# 4a. Invert a dictionary"
   ]
  },
  {
   "cell_type": "code",
   "execution_count": null,
   "id": "5f6cb04c",
   "metadata": {},
   "outputs": [],
   "source": [
    "# 4b. Character frequency in string"
   ]
  },
  {
   "cell_type": "markdown",
   "id": "609ada58",
   "metadata": {},
   "source": [
    "## 5. Stacks & Queues\n",
    "\n",
    "**a.** Implement a stack using a list and provide push/pop methods.\n",
    "\n",
    "**b.** Implement a queue using collections.deque and provide enqueue/dequeue methods."
   ]
  },
  {
   "cell_type": "code",
   "execution_count": null,
   "id": "a3fd0b82",
   "metadata": {},
   "outputs": [],
   "source": [
    "# 5a. Stack with push/pop"
   ]
  },
  {
   "cell_type": "code",
   "execution_count": null,
   "id": "67403347",
   "metadata": {},
   "outputs": [],
   "source": [
    "# 5b. Queue with enqueue/dequeue"
   ]
  }
 ],
 "metadata": {
  "language_info": {
   "name": "python"
  }
 },
 "nbformat": 4,
 "nbformat_minor": 5
}
