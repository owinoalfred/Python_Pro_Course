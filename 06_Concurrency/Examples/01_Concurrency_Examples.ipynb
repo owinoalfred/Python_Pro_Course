{
 "cells": [
  {
   "cell_type": "markdown",
   "id": "938cd0f9",
   "metadata": {},
   "source": [
    "# Concurrency: Practical Examples\n",
    "\n",
    "Explore real-world code samples that demonstrate concurrency in action.\n",
    "\n",
    "---"
   ]
  },
  {
   "cell_type": "markdown",
   "id": "cc0168c1",
   "metadata": {},
   "source": [
    "## Example 1: Downloading Files in Parallel with Threads"
   ]
  },
  {
   "cell_type": "code",
   "execution_count": null,
   "id": "c89cc1ba",
   "metadata": {},
   "outputs": [],
   "source": [
    "import threading\n",
    "def download_file(url):\n",
    "    print(f'Downloading {url}')\n",
    "urls = ['a.com', 'b.com', 'c.com']\n",
    "threads = [threading.Thread(target=download_file, args=(u,)) for u in urls]\n",
    "for t in threads: t.start()\n",
    "for t in threads: t.join()"
   ]
  },
  {
   "cell_type": "markdown",
   "id": "315de9b4",
   "metadata": {},
   "source": [
    "## Example 2: Multiprocessing for CPU-bound Tasks"
   ]
  },
  {
   "cell_type": "code",
   "execution_count": null,
   "id": "6bd968b7",
   "metadata": {},
   "outputs": [],
   "source": [
    "import multiprocessing\n",
    "def compute_square(n):\n",
    "    print(f'Square: {n*n}')\n",
    "numbers = [1, 2, 3, 4]\n",
    "processes = [multiprocessing.Process(target=compute_square, args=(n,)) for n in numbers]\n",
    "for p in processes: p.start()\n",
    "for p in processes: p.join()"
   ]
  },
  {
   "cell_type": "markdown",
   "id": "1f061a40",
   "metadata": {},
   "source": [
    "## Example 3: Asyncio for Concurrent I/O"
   ]
  },
  {
   "cell_type": "code",
   "execution_count": null,
   "id": "2386c37b",
   "metadata": {},
   "outputs": [],
   "source": [
    "import asyncio\n",
    "async def fetch_data(n):\n",
    "    await asyncio.sleep(1)\n",
    "    print(f'Fetched data {n}')\n",
    "async def main():\n",
    "    await asyncio.gather(*(fetch_data(i) for i in range(3)))\n",
    "asyncio.run(main())"
   ]
  },
  {
   "cell_type": "markdown",
   "id": "f5844644",
   "metadata": {},
   "source": [
    "## Best Practices\n",
    "\n",
    "- Use threads for I/O-bound tasks, processes for CPU-bound.\n",
    "- Always join threads/processes to avoid orphaned tasks.\n",
    "- Use locks or queues to share data safely between threads.\n",
    "- Use async for high-level I/O concurrency."
   ]
  },
  {
   "cell_type": "markdown",
   "id": "74dc261a",
   "metadata": {},
   "source": [
    "## Common Pitfalls\n",
    "\n",
    "- Race conditions from unsynchronized access.\n",
    "- Deadlocks from improper lock usage.\n",
    "- Blocking the event loop in async code.\n",
    "- Not handling exceptions in threads/processes."
   ]
  }
 ],
 "metadata": {
  "language_info": {
   "name": "python"
  }
 },
 "nbformat": 4,
 "nbformat_minor": 5
}
