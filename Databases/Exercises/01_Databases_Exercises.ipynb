{
 "cells": [
  {
   "cell_type": "markdown",
   "id": "4f4fc304",
   "metadata": {},
   "source": [
    "# Databases: Exercises\n",
    "\n",
    "This notebook contains hands-on exercises to reinforce your understanding of database concepts, SQL, NoSQL, and database management in Python. Attempt each exercise before checking the solutions.\n",
    "\n",
    "---\n",
    "\n",
    "## Table of Contents\n",
    "1. [SQLite: Basic Operations](#sqlite-basic-operations)\n",
    "2. [SQL Queries](#sql-queries)\n",
    "3. [SQLAlchemy ORM](#sqlalchemy-orm)\n",
    "4. [NoSQL with MongoDB](#nosql-with-mongodb)\n",
    "5. [Transactions and Error Handling](#transactions-and-error-handling)\n",
    "6. [Indexing and Optimization](#indexing-and-optimization)\n",
    "\n",
    "---"
   ]
  },
  {
   "cell_type": "markdown",
   "id": "a2c802dc",
   "metadata": {},
   "source": [
    "## 1. SQLite: Basic Operations\n",
    "\n",
    "**Exercise 1:** Create an in-memory SQLite database and a table called `products` with columns `id`, `name`, and `price`. Insert three sample products.\n",
    "\n",
    "---\n",
    "\n",
    "## 2. SQL Queries\n",
    "\n",
    "**Exercise 2:** Write SQL queries to:\n",
    "- Select all products\n",
    "- Select products with price > 20\n",
    "- Update the price of a product\n",
    "- Delete a product by name\n",
    "\n",
    "---\n",
    "\n",
    "## 3. SQLAlchemy ORM\n",
    "\n",
    "**Exercise 3:** Define a SQLAlchemy ORM model for a `Customer` with fields `id`, `name`, and `email`. Add two customers and query all customers.\n",
    "\n",
    "---\n",
    "\n",
    "## 4. NoSQL with MongoDB\n",
    "\n",
    "**Exercise 4:** (Requires MongoDB and pymongo) Insert a document into a `books` collection with fields `title` and `author`. Query all books.\n",
    "\n",
    "---\n",
    "\n",
    "## 5. Transactions and Error Handling\n",
    "\n",
    "**Exercise 5:** Write a transaction that inserts two new products. If an error occurs, roll back the transaction.\n",
    "\n",
    "---\n",
    "\n",
    "## 6. Indexing and Optimization\n",
    "\n",
    "**Exercise 6:** Create an index on the `price` column of the `products` table. Write a query that benefits from this index.\n",
    "\n",
    "---"
   ]
  }
 ],
 "metadata": {
  "language_info": {
   "name": "python"
  }
 },
 "nbformat": 4,
 "nbformat_minor": 5
}
