{
 "cells": [
  {
   "cell_type": "markdown",
   "id": "615ef7ea",
   "metadata": {},
   "source": [
    "# Databases: Challenges\n",
    "\n",
    "This notebook presents advanced, open-ended challenges to test your mastery of database concepts, SQL, NoSQL, and database management. These problems are designed to simulate real-world scenarios and encourage creative problem-solving.\n",
    "\n",
    "---\n",
    "\n",
    "## Table of Contents\n",
    "1. [Database Design Challenge](#database-design-challenge)\n",
    "2. [Complex SQL Query Challenge](#complex-sql-query-challenge)\n",
    "3. [NoSQL Data Modeling Challenge](#nosql-data-modeling-challenge)\n",
    "4. [Transaction and Concurrency Challenge](#transaction-and-concurrency-challenge)\n",
    "5. [Performance and Optimization Challenge](#performance-and-optimization-challenge)\n",
    "\n",
    "---"
   ]
  },
  {
   "cell_type": "markdown",
   "id": "e6a56032",
   "metadata": {},
   "source": [
    "## 1. Database Design Challenge\n",
    "\n",
    "Design a relational database schema for an online bookstore. Include tables for books, authors, customers, and orders. Draw an ER diagram and explain your design choices.\n",
    "\n",
    "---\n",
    "\n",
    "## 2. Complex SQL Query Challenge\n",
    "\n",
    "Given a database with sales data, write SQL queries to:\n",
    "- Find the top 3 best-selling products by revenue\n",
    "- Calculate the monthly sales growth rate\n",
    "- Identify customers who have not placed an order in the last year\n",
    "\n",
    "---\n",
    "\n",
    "## 3. NoSQL Data Modeling Challenge\n",
    "\n",
    "Model a social media application's data using a NoSQL database (e.g., MongoDB). Describe collections, documents, and indexing strategies for efficient querying.\n",
    "\n",
    "---\n",
    "\n",
    "## 4. Transaction and Concurrency Challenge\n",
    "\n",
    "Simulate a banking system where multiple transactions (deposits, withdrawals) occur concurrently. Ensure data consistency and demonstrate how to handle race conditions.\n",
    "\n",
    "---\n",
    "\n",
    "## 5. Performance and Optimization Challenge\n",
    "\n",
    "Analyze a slow-running query on a large dataset. Propose and implement indexing or query optimization strategies to improve performance. Measure and compare the results.\n",
    "\n",
    "---"
   ]
  }
 ],
 "metadata": {
  "language_info": {
   "name": "python"
  }
 },
 "nbformat": 4,
 "nbformat_minor": 5
}
