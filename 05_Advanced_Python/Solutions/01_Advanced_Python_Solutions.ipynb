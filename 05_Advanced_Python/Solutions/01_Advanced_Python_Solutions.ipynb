{
 "cells": [
  {
   "cell_type": "markdown",
   "id": "b3fc72ac",
   "metadata": {},
   "source": [
    "# Advanced Python: Solutions\n",
    "\n",
    "Detailed solutions and explanations for the exercises.\n",
    "\n",
    "---"
   ]
  },
  {
   "cell_type": "markdown",
   "id": "78fdd986",
   "metadata": {},
   "source": [
    "## 1. Iterators & Generators\n",
    "\n",
    "**a. Custom iterator for even numbers:**"
   ]
  },
  {
   "cell_type": "code",
   "execution_count": null,
   "id": "2a8c486c",
   "metadata": {},
   "outputs": [],
   "source": [
    "class EvenIterator:\n",
    "    def __init__(self):\n",
    "        self.current = 2\n",
    "    def __iter__(self):\n",
    "        return self\n",
    "    def __next__(self):\n",
    "        if self.current > 10:\n",
    "            raise StopIteration\n",
    "        val = self.current\n",
    "        self.current += 2\n",
    "        return val\n",
    "\n",
    "print(list(EvenIterator()))  # [2, 4, 6, 8, 10]"
   ]
  },
  {
   "cell_type": "markdown",
   "id": "f7120265",
   "metadata": {},
   "source": [
    "**b. Fibonacci generator:**"
   ]
  },
  {
   "cell_type": "code",
   "execution_count": null,
   "id": "53efa32f",
   "metadata": {},
   "outputs": [],
   "source": [
    "def fibonacci(n):\n",
    "    a, b = 0, 1\n",
    "    for _ in range(n):\n",
    "        yield a\n",
    "        a, b = b, a + b\n",
    "\n",
    "print(list(fibonacci(7)))  # [0, 1, 1, 2, 3, 5, 8]"
   ]
  },
  {
   "cell_type": "markdown",
   "id": "ef0b4bdb",
   "metadata": {},
   "source": [
    "## 2. Decorators\n",
    "\n",
    "**a. Print arguments and result decorator:**"
   ]
  },
  {
   "cell_type": "code",
   "execution_count": null,
   "id": "9b561a4f",
   "metadata": {},
   "outputs": [],
   "source": [
    "def print_args_and_result(func):\n",
    "    def wrapper(*args, **kwargs):\n",
    "        print(f'Arguments: {args}, {kwargs}')\n",
    "        result = func(*args, **kwargs)\n",
    "        print(f'Result: {result}')\n",
    "        return result\n",
    "    return wrapper\n",
    "\n",
    "@print_args_and_result\n",
    "def add(a, b):\n",
    "    return a + b\n",
    "\n",
    "add(3, 4)"
   ]
  },
  {
   "cell_type": "markdown",
   "id": "61320915",
   "metadata": {},
   "source": [
    "**b. Run-once decorator:**"
   ]
  },
  {
   "cell_type": "code",
   "execution_count": null,
   "id": "1ca56c53",
   "metadata": {},
   "outputs": [],
   "source": [
    "def run_once(func):\n",
    "    has_run = False\n",
    "    def wrapper(*args, **kwargs):\n",
    "        nonlocal has_run\n",
    "        if not has_run:\n",
    "            has_run = True\n",
    "            return func(*args, **kwargs)\n",
    "        else:\n",
    "            print('Function can only be run once.')\n",
    "    return wrapper\n",
    "\n",
    "@run_once\n",
    "def hello():\n",
    "    print('Hello!')\n",
    "\n",
    "hello()\n",
    "hello()"
   ]
  },
  {
   "cell_type": "markdown",
   "id": "756c708b",
   "metadata": {},
   "source": [
    "## 3. Context Managers\n",
    "\n",
    "**a. Logging context manager:**"
   ]
  },
  {
   "cell_type": "code",
   "execution_count": null,
   "id": "b756a2ac",
   "metadata": {},
   "outputs": [],
   "source": [
    "class LogContext:\n",
    "    def __enter__(self):\n",
    "        print('Entering context')\n",
    "    def __exit__(self, exc_type, exc_val, exc_tb):\n",
    "        print('Exiting context')\n",
    "\n",
    "with LogContext():\n",
    "    print('Inside context')"
   ]
  },
  {
   "cell_type": "markdown",
   "id": "3739114c",
   "metadata": {},
   "source": [
    "**b. Working directory context manager:**"
   ]
  },
  {
   "cell_type": "code",
   "execution_count": null,
   "id": "54766d73",
   "metadata": {},
   "outputs": [],
   "source": [
    "import os\n",
    "class ChangeDir:\n",
    "    def __init__(self, path):\n",
    "        self.path = path\n",
    "    def __enter__(self):\n",
    "        self.old_path = os.getcwd()\n",
    "        os.chdir(self.path)\n",
    "    def __exit__(self, exc_type, exc_val, exc_tb):\n",
    "        os.chdir(self.old_path)\n",
    "\n",
    "# Usage: with ChangeDir('/tmp'): ..."
   ]
  },
  {
   "cell_type": "markdown",
   "id": "d44b4346",
   "metadata": {},
   "source": [
    "## 4. Metaclasses\n",
    "\n",
    "**a. Metaclass that prints on class creation:**"
   ]
  },
  {
   "cell_type": "code",
   "execution_count": null,
   "id": "f1c50c34",
   "metadata": {},
   "outputs": [],
   "source": [
    "class PrintMeta(type):\n",
    "    def __new__(mcs, name, bases, dct):\n",
    "        print(f'Creating class {name}')\n",
    "        return super().__new__(mcs, name, bases, dct)\n",
    "\n",
    "class MyClass(metaclass=PrintMeta):\n",
    "    pass"
   ]
  },
  {
   "cell_type": "markdown",
   "id": "dec603bd",
   "metadata": {},
   "source": [
    "**b. Metaclass that prevents subclassing:**"
   ]
  },
  {
   "cell_type": "code",
   "execution_count": null,
   "id": "7312ed91",
   "metadata": {},
   "outputs": [],
   "source": [
    "class NoSubclassMeta(type):\n",
    "    def __init__(cls, name, bases, dct):\n",
    "        for base in bases:\n",
    "            if isinstance(base, NoSubclassMeta):\n",
    "                raise TypeError('Subclassing not allowed')\n",
    "        super().__init__(name, bases, dct)\n",
    "\n",
    "class Base(metaclass=NoSubclassMeta):\n",
    "    pass\n",
    "# class Derived(Base): pass  # This will raise TypeError"
   ]
  }
 ],
 "metadata": {
  "language_info": {
   "name": "python"
  }
 },
 "nbformat": 4,
 "nbformat_minor": 5
}
