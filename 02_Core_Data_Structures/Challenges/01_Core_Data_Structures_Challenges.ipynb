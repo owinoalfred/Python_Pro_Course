{
 "cells": [
  {
   "cell_type": "markdown",
   "id": "23996674",
   "metadata": {},
   "source": [
    "# Core Data Structures: Challenges\n",
    "\n",
    "Tackle these advanced, interview-style, and project-based problems to test your mastery.\n",
    "\n",
    "---"
   ]
  },
  {
   "cell_type": "markdown",
   "id": "dfa078e1",
   "metadata": {},
   "source": [
    "## 1. Interview-Style Coding Challenge\n",
    "\n",
    "**LRU Cache:**\n",
    "Implement a Least Recently Used (LRU) cache class using a dictionary and a doubly linked list. The cache should have a fixed size and evict the least recently used item when full.\n",
    "\n",
    "**Constraints:**\n",
    "- Use only built-in data structures.\n",
    "- Support O(1) get and put operations.\n",
    "\n",
    "**Sample Usage:**\n",
    "```python\n",
    "cache = LRUCache(2)\n",
    "cache.put(1, 1)\n",
    "cache.put(2, 2)\n",
    "print(cache.get(1))  # returns 1\n",
    "cache.put(3, 3)      # evicts key 2\n",
    "print(cache.get(2))  # returns -1 (not found)\n",
    "```"
   ]
  },
  {
   "cell_type": "markdown",
   "id": "36901a11",
   "metadata": {},
   "source": [
    "## 2. Advanced Data Structure Challenge\n",
    "\n",
    "**Trie (Prefix Tree):**\n",
    "Implement a Trie data structure with insert, search, and startsWith methods.\n",
    "\n",
    "**Sample Usage:**\n",
    "```python\n",
    "trie = Trie()\n",
    "trie.insert('apple')\n",
    "print(trie.search('apple'))    # True\n",
    "print(trie.startsWith('app'))  # True\n",
    "print(trie.search('app'))      # False\n",
    "```"
   ]
  },
  {
   "cell_type": "markdown",
   "id": "645d50d9",
   "metadata": {},
   "source": [
    "## 3. Mini-Project: Text Editor Undo Feature\n",
    "\n",
    "Build a simple text editor class that supports typing characters, deleting the last character, and undoing the last operation.\n",
    "\n",
    "**Requirements:**\n",
    "- Use stacks to implement undo functionality.\n",
    "- Support `type(char)`, `delete()`, and `undo()` methods.\n",
    "\n",
    "**Sample Usage:**\n",
    "```python\n",
    "editor = TextEditor()\n",
    "editor.type('a')\n",
    "editor.type('b')\n",
    "editor.delete()\n",
    "editor.undo()\n",
    "print(editor.text)  # 'ab'\n",
    "```"
   ]
  }
 ],
 "metadata": {
  "language_info": {
   "name": "python"
  }
 },
 "nbformat": 4,
 "nbformat_minor": 5
}
