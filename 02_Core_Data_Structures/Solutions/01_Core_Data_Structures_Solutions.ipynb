{
 "cells": [
  {
   "cell_type": "markdown",
   "id": "a6c11230",
   "metadata": {},
   "source": [
    "# Core Data Structures: Solutions\n",
    "\n",
    "Detailed solutions and explanations for the exercises.\n",
    "\n",
    "---"
   ]
  },
  {
   "cell_type": "markdown",
   "id": "973a63e1",
   "metadata": {},
   "source": [
    "## 1. Lists\n",
    "\n",
    "**a. Reverse a list in place:**"
   ]
  },
  {
   "cell_type": "code",
   "execution_count": null,
   "id": "5c166454",
   "metadata": {},
   "outputs": [],
   "source": [
    "def reverse_list(lst):\n",
    "    lst.reverse()\n",
    "# Example:\n",
    "nums = [1,2,3]\n",
    "reverse_list(nums)\n",
    "print(nums)  # [3,2,1]"
   ]
  },
  {
   "cell_type": "markdown",
   "id": "b4d69329",
   "metadata": {},
   "source": [
    "**b. Remove duplicates from a list:**"
   ]
  },
  {
   "cell_type": "code",
   "execution_count": null,
   "id": "8699005f",
   "metadata": {},
   "outputs": [],
   "source": [
    "def remove_duplicates(lst):\n",
    "    return list(set(lst))\n",
    "# Example: remove_duplicates([1,2,2,3]) -> [1,2,3]"
   ]
  },
  {
   "cell_type": "markdown",
   "id": "b4c395d0",
   "metadata": {},
   "source": [
    "## 2. Tuples\n",
    "\n",
    "**a. Swap values using tuple unpacking:**"
   ]
  },
  {
   "cell_type": "code",
   "execution_count": null,
   "id": "c23bd078",
   "metadata": {},
   "outputs": [],
   "source": [
    "def swap(a, b):\n",
    "    a, b = b, a\n",
    "    return a, b\n",
    "# Example: swap(1,2) -> (2,1)"
   ]
  },
  {
   "cell_type": "markdown",
   "id": "ef785184",
   "metadata": {},
   "source": [
    "## 3. Sets\n",
    "\n",
    "**a. Intersection of two sets:**"
   ]
  },
  {
   "cell_type": "code",
   "execution_count": null,
   "id": "0c189ff2",
   "metadata": {},
   "outputs": [],
   "source": [
    "def set_intersection(a, b):\n",
    "    return a & b\n",
    "# Example: set_intersection({1,2},{2,3}) -> {2}"
   ]
  },
  {
   "cell_type": "markdown",
   "id": "0bfda3a2",
   "metadata": {},
   "source": [
    "**b. Check if set is subset:**"
   ]
  },
  {
   "cell_type": "code",
   "execution_count": null,
   "id": "acfbe8f2",
   "metadata": {},
   "outputs": [],
   "source": [
    "def is_subset(a, b):\n",
    "    return a <= b\n",
    "# Example: is_subset({1,2},{1,2,3}) -> True"
   ]
  },
  {
   "cell_type": "markdown",
   "id": "da7989e9",
   "metadata": {},
   "source": [
    "## 4. Dictionaries\n",
    "\n",
    "**a. Invert a dictionary:**"
   ]
  },
  {
   "cell_type": "code",
   "execution_count": null,
   "id": "4557fc5e",
   "metadata": {},
   "outputs": [],
   "source": [
    "def invert_dict(d):\n",
    "    return {v: k for k, v in d.items()}\n",
    "# Example: invert_dict({'a':1,'b':2}) -> {1:'a',2:'b'}"
   ]
  },
  {
   "cell_type": "markdown",
   "id": "7f62c779",
   "metadata": {},
   "source": [
    "**b. Character frequency in string:**"
   ]
  },
  {
   "cell_type": "code",
   "execution_count": null,
   "id": "5a9b73b8",
   "metadata": {},
   "outputs": [],
   "source": [
    "def char_freq(s):\n",
    "    freq = {}\n",
    "    for c in s:\n",
    "        freq[c] = freq.get(c, 0) + 1\n",
    "    return freq\n",
    "# Example: char_freq('hello') -> {'h':1,'e':1,'l':2,'o':1}"
   ]
  },
  {
   "cell_type": "markdown",
   "id": "1f3ce7a0",
   "metadata": {},
   "source": [
    "## 5. Stacks & Queues\n",
    "\n",
    "**a. Stack with push/pop:**"
   ]
  },
  {
   "cell_type": "code",
   "execution_count": null,
   "id": "47a927f1",
   "metadata": {},
   "outputs": [],
   "source": [
    "class Stack:\n",
    "    def __init__(self):\n",
    "        self.items = []\n",
    "    def push(self, item):\n",
    "        self.items.append(item)\n",
    "    def pop(self):\n",
    "        return self.items.pop()\n",
    "# Example:\n",
    "s = Stack()\n",
    "s.push(1); s.push(2); print(s.pop())  # 2"
   ]
  },
  {
   "cell_type": "markdown",
   "id": "0f41cce4",
   "metadata": {},
   "source": [
    "**b. Queue with enqueue/dequeue:**"
   ]
  },
  {
   "cell_type": "code",
   "execution_count": null,
   "id": "7565a32d",
   "metadata": {},
   "outputs": [],
   "source": [
    "from collections import deque\n",
    "class Queue:\n",
    "    def __init__(self):\n",
    "        self.items = deque()\n",
    "    def enqueue(self, item):\n",
    "        self.items.append(item)\n",
    "    def dequeue(self):\n",
    "        return self.items.popleft()\n",
    "# Example:\n",
    "q = Queue()\n",
    "q.enqueue(1); q.enqueue(2); print(q.dequeue())  # 1"
   ]
  }
 ],
 "metadata": {
  "language_info": {
   "name": "python"
  }
 },
 "nbformat": 4,
 "nbformat_minor": 5
}
