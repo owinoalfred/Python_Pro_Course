{
 "cells": [
  {
   "cell_type": "markdown",
   "id": "dabf6bea",
   "metadata": {},
   "source": [
    "# Foundations: Exercises\n",
    "\n",
    "This notebook contains hands-on exercises to reinforce your understanding of programming foundations, algorithms, and data structures. Attempt each exercise before checking the solutions.\n",
    "\n",
    "---\n",
    "\n",
    "## Table of Contents\n",
    "1. [Variables and Data Types](#variables-and-data-types)\n",
    "2. [Control Flow](#control-flow)\n",
    "3. [Functions](#functions)\n",
    "4. [Algorithms](#algorithms)\n",
    "5. [Data Structures](#data-structures)\n",
    "6. [Recursion and Iteration](#recursion-and-iteration)\n",
    "\n",
    "---"
   ]
  },
  {
   "cell_type": "markdown",
   "id": "d0828753",
   "metadata": {},
   "source": [
    "## 1. Variables and Data Types\n",
    "\n",
    "**Exercise 1:** Create variables of type integer, float, string, and boolean. Print their types.\n",
    "\n",
    "---\n",
    "\n",
    "## 2. Control Flow\n",
    "\n",
    "**Exercise 2:** Write a loop that prints numbers from 1 to 10. For each number, print whether it is even or odd.\n",
    "\n",
    "---\n",
    "\n",
    "## 3. Functions\n",
    "\n",
    "**Exercise 3:** Write a function that takes a name as input and returns a greeting string.\n",
    "\n",
    "---\n",
    "\n",
    "## 4. Algorithms\n",
    "\n",
    "**Exercise 4:** Implement a linear search function that returns the index of a target value in a list, or -1 if not found.\n",
    "\n",
    "**Exercise 5:** Write a function to compute the factorial of a number using iteration.\n",
    "\n",
    "---\n",
    "\n",
    "## 5. Data Structures\n",
    "\n",
    "**Exercise 6:** Use a list as a stack and a queue. Show push, pop, enqueue, and dequeue operations.\n",
    "\n",
    "**Exercise 7:** Create a dictionary mapping three country names to their capitals. Print the capital of one country.\n",
    "\n",
    "---\n",
    "\n",
    "## 6. Recursion and Iteration\n",
    "\n",
    "**Exercise 8:** Write a recursive function to compute the nth Fibonacci number.\n",
    "\n",
    "**Exercise 9:** Write an iterative function to compute the nth Fibonacci number.\n",
    "\n",
    "---"
   ]
  }
 ],
 "metadata": {
  "language_info": {
   "name": "python"
  }
 },
 "nbformat": 4,
 "nbformat_minor": 5
}
