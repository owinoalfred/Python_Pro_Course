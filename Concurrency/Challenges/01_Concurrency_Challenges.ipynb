{
 "cells": [
  {
   "cell_type": "markdown",
   "id": "92af8f49",
   "metadata": {},
   "source": [
    "# Concurrency: Challenges\n",
    "\n",
    "Tackle these advanced, interview-style, and project-based problems to test your mastery.\n",
    "\n",
    "---"
   ]
  },
  {
   "cell_type": "markdown",
   "id": "36896f39",
   "metadata": {},
   "source": [
    "## 1. Interview-Style Coding Challenge\n",
    "\n",
    "**Thread Pool Executor:**\n",
    "Implement a thread pool executor class that manages a pool of worker threads and executes submitted tasks.\n",
    "\n",
    "**Constraints:**\n",
    "- Use only built-in modules.\n",
    "- Support task submission and graceful shutdown.\n",
    "\n",
    "**Sample Usage:**\n",
    "```python\n",
    "pool = ThreadPool(4)\n",
    "for i in range(10):\n",
    "    pool.submit(print, i)\n",
    "pool.shutdown()\n",
    "```"
   ]
  },
  {
   "cell_type": "markdown",
   "id": "85479f7e",
   "metadata": {},
   "source": [
    "## 2. Advanced Async Challenge\n",
    "\n",
    "**Async Rate Limiter:**\n",
    "Implement an async rate limiter that allows only N tasks per second.\n",
    "\n",
    "**Constraints:**\n",
    "- Use asyncio primitives.\n",
    "- Support concurrent tasks.\n",
    "\n",
    "**Sample Usage:**\n",
    "```python\n",
    "limiter = AsyncRateLimiter(2)\n",
    "async def task(n):\n",
    "    async with limiter:\n",
    "        print(f'Running {n}')\n",
    "# Run multiple tasks concurrently\n",
    "```"
   ]
  },
  {
   "cell_type": "markdown",
   "id": "47b96c13",
   "metadata": {},
   "source": [
    "## 3. Mini-Project: Concurrent Web Scraper\n",
    "\n",
    "Build a concurrent web scraper that fetches and parses multiple web pages in parallel using threads or async.\n",
    "\n",
    "**Requirements:**\n",
    "- Fetch at least 10 URLs concurrently.\n",
    "- Parse and print the title of each page.\n",
    "\n",
    "**Sample Usage:**\n",
    "```python\n",
    "urls = ['https://example.com', ...]\n",
    "scrape_all(urls)\n",
    "```"
   ]
  }
 ],
 "metadata": {
  "language_info": {
   "name": "python"
  }
 },
 "nbformat": 4,
 "nbformat_minor": 5
}
