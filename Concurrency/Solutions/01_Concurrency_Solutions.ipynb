{
 "cells": [
  {
   "cell_type": "markdown",
   "id": "e0189305",
   "metadata": {},
   "source": [
    "# Concurrency: Solutions\n",
    "\n",
    "Detailed solutions and explanations for the exercises.\n",
    "\n",
    "---"
   ]
  },
  {
   "cell_type": "markdown",
   "id": "c875c802",
   "metadata": {},
   "source": [
    "## 1. Threads\n",
    "\n",
    "**a. Three threads printing messages:**"
   ]
  },
  {
   "cell_type": "code",
   "execution_count": null,
   "id": "45d49ced",
   "metadata": {},
   "outputs": [],
   "source": [
    "import threading\n",
    "def print_msg(msg):\n",
    "    print(msg)\n",
    "messages = ['Hello', 'World', 'Concurrency']\n",
    "threads = [threading.Thread(target=print_msg, args=(m,)) for m in messages]\n",
    "for t in threads: t.start()\n",
    "for t in threads: t.join()"
   ]
  },
  {
   "cell_type": "markdown",
   "id": "3c056f16",
   "metadata": {},
   "source": [
    "**b. Thread-safe counter class:**"
   ]
  },
  {
   "cell_type": "code",
   "execution_count": null,
   "id": "47805230",
   "metadata": {},
   "outputs": [],
   "source": [
    "import threading\n",
    "class Counter:\n",
    "    def __init__(self):\n",
    "        self.value = 0\n",
    "        self.lock = threading.Lock()\n",
    "    def increment(self):\n",
    "        with self.lock:\n",
    "            self.value += 1\n",
    "counter = Counter()\n",
    "threads = [threading.Thread(target=counter.increment) for _ in range(100)]\n",
    "for t in threads: t.start()\n",
    "for t in threads: t.join()\n",
    "print(counter.value)"
   ]
  },
  {
   "cell_type": "markdown",
   "id": "7a481234",
   "metadata": {},
   "source": [
    "## 2. Multiprocessing\n",
    "\n",
    "**a. Multiprocessing squares:**"
   ]
  },
  {
   "cell_type": "code",
   "execution_count": null,
   "id": "d8906060",
   "metadata": {},
   "outputs": [],
   "source": [
    "import multiprocessing\n",
    "def square(n):\n",
    "    print(n*n)\n",
    "numbers = [1,2,3,4]\n",
    "processes = [multiprocessing.Process(target=square, args=(n,)) for n in numbers]\n",
    "for p in processes: p.start()\n",
    "for p in processes: p.join()"
   ]
  },
  {
   "cell_type": "markdown",
   "id": "b6672ef1",
   "metadata": {},
   "source": [
    "**b. Two processes printing PID:**"
   ]
  },
  {
   "cell_type": "code",
   "execution_count": null,
   "id": "7635bde2",
   "metadata": {},
   "outputs": [],
   "source": [
    "import multiprocessing, os\n",
    "def print_pid():\n",
    "    print(f'Process ID: {os.getpid()}')\n",
    "processes = [multiprocessing.Process(target=print_pid) for _ in range(2)]\n",
    "for p in processes: p.start()\n",
    "for p in processes: p.join()"
   ]
  },
  {
   "cell_type": "markdown",
   "id": "8341d3e1",
   "metadata": {},
   "source": [
    "## 3. Asyncio\n",
    "\n",
    "**a. Async print numbers:**"
   ]
  },
  {
   "cell_type": "code",
   "execution_count": null,
   "id": "1886eaf3",
   "metadata": {},
   "outputs": [],
   "source": [
    "import asyncio\n",
    "async def print_numbers():\n",
    "    for i in range(1, 6):\n",
    "        print(i)\n",
    "        await asyncio.sleep(0.5)\n",
    "asyncio.run(print_numbers())"
   ]
  },
  {
   "cell_type": "markdown",
   "id": "9f5f4433",
   "metadata": {},
   "source": [
    "**b. Async fetch data from URLs:**"
   ]
  },
  {
   "cell_type": "code",
   "execution_count": null,
   "id": "7a5fbf96",
   "metadata": {},
   "outputs": [],
   "source": [
    "import asyncio\n",
    "async def fetch(url):\n",
    "    await asyncio.sleep(1)\n",
    "    print(f'Fetched {url}')\n",
    "async def main():\n",
    "    urls = ['a', 'b', 'c']\n",
    "    await asyncio.gather(*(fetch(u) for u in urls))\n",
    "asyncio.run(main())"
   ]
  }
 ],
 "metadata": {
  "language_info": {
   "name": "python"
  }
 },
 "nbformat": 4,
 "nbformat_minor": 5
}
