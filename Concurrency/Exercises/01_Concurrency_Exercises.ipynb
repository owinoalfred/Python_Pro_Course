{
 "cells": [
  {
   "cell_type": "markdown",
   "id": "27e93b2c",
   "metadata": {},
   "source": [
    "# Concurrency: Exercises\n",
    "\n",
    "Practice your skills with these hands-on concurrency problems.\n",
    "\n",
    "---"
   ]
  },
  {
   "cell_type": "markdown",
   "id": "56c2d1b2",
   "metadata": {},
   "source": [
    "## 1. Threads\n",
    "\n",
    "**a.** Write a function that starts three threads, each printing a different message.\n",
    "\n",
    "**b.** Write a thread-safe counter class using a lock."
   ]
  },
  {
   "cell_type": "code",
   "execution_count": null,
   "id": "5a435378",
   "metadata": {},
   "outputs": [],
   "source": [
    "# 1a. Three threads printing messages"
   ]
  },
  {
   "cell_type": "code",
   "execution_count": null,
   "id": "04b07544",
   "metadata": {},
   "outputs": [],
   "source": [
    "# 1b. Thread-safe counter class"
   ]
  },
  {
   "cell_type": "markdown",
   "id": "491ccb4e",
   "metadata": {},
   "source": [
    "## 2. Multiprocessing\n",
    "\n",
    "**a.** Write a function that uses multiprocessing to compute the squares of numbers in parallel.\n",
    "\n",
    "**b.** Write a function that starts two processes, each printing its process ID."
   ]
  },
  {
   "cell_type": "code",
   "execution_count": null,
   "id": "395c7333",
   "metadata": {},
   "outputs": [],
   "source": [
    "# 2a. Multiprocessing squares"
   ]
  },
  {
   "cell_type": "code",
   "execution_count": null,
   "id": "ed51b7f9",
   "metadata": {},
   "outputs": [],
   "source": [
    "# 2b. Two processes printing PID"
   ]
  },
  {
   "cell_type": "markdown",
   "id": "68852037",
   "metadata": {},
   "source": [
    "## 3. Asyncio\n",
    "\n",
    "**a.** Write an async function that prints numbers 1-5 with a 0.5s delay between each.\n",
    "\n",
    "**b.** Write an async function that fetches data from three URLs concurrently (simulate with sleep)."
   ]
  },
  {
   "cell_type": "code",
   "execution_count": null,
   "id": "f39b4692",
   "metadata": {},
   "outputs": [],
   "source": [
    "# 3a. Async print numbers"
   ]
  },
  {
   "cell_type": "code",
   "execution_count": null,
   "id": "234d5624",
   "metadata": {},
   "outputs": [],
   "source": [
    "# 3b. Async fetch data from URLs"
   ]
  }
 ],
 "metadata": {
  "language_info": {
   "name": "python"
  }
 },
 "nbformat": 4,
 "nbformat_minor": 5
}
