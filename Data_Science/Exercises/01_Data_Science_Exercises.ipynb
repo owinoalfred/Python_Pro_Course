{
 "cells": [
  {
   "cell_type": "markdown",
   "id": "eac665e8",
   "metadata": {},
   "source": [
    "# Data Science: Exercises\n",
    "\n",
    "This notebook contains hands-on exercises to reinforce your understanding of data science concepts, including data wrangling, EDA, statistics, and machine learning. Attempt each exercise before checking the solutions.\n",
    "\n",
    "---\n",
    "\n",
    "## Table of Contents\n",
    "1. [Data Loading and Inspection](#data-loading-and-inspection)\n",
    "2. [Data Cleaning](#data-cleaning)\n",
    "3. [Exploratory Data Analysis](#exploratory-data-analysis)\n",
    "4. [Statistical Analysis](#statistical-analysis)\n",
    "5. [Machine Learning: Classification](#machine-learning-classification)\n",
    "6. [Machine Learning: Regression](#machine-learning-regression)\n",
    "7. [Model Evaluation](#model-evaluation)\n",
    "\n",
    "---"
   ]
  },
  {
   "cell_type": "markdown",
   "id": "2715653d",
   "metadata": {},
   "source": [
    "## 1. Data Loading and Inspection\n",
    "\n",
    "**Exercise 1:** Load the Iris dataset from a CSV file into a pandas DataFrame. Display the first 5 rows and the data types of each column.\n",
    "\n",
    "---\n",
    "\n",
    "## 2. Data Cleaning\n",
    "\n",
    "**Exercise 2:** Check for missing values in the dataset. If any are found, fill them with the column mean (for numeric columns).\n",
    "\n",
    "**Exercise 3:** Rename the column 'species' to 'Species'.\n",
    "\n",
    "---\n",
    "\n",
    "## 3. Exploratory Data Analysis\n",
    "\n",
    "**Exercise 4:** Plot the distribution of 'sepal_length' using a histogram. What do you observe?\n",
    "\n",
    "**Exercise 5:** Create a pairplot to visualize relationships between all features, colored by species.\n",
    "\n",
    "---\n",
    "\n",
    "## 4. Statistical Analysis\n",
    "\n",
    "**Exercise 6:** Calculate the mean, median, and standard deviation for each numeric column.\n",
    "\n",
    "**Exercise 7:** Compute the correlation matrix for the dataset.\n",
    "\n",
    "---\n",
    "\n",
    "## 5. Machine Learning: Classification\n",
    "\n",
    "**Exercise 8:** Split the dataset into training and test sets (80/20 split). Train a RandomForestClassifier to predict the species. Report the accuracy on the test set.\n",
    "\n",
    "---\n",
    "\n",
    "## 6. Machine Learning: Regression\n",
    "\n",
    "**Exercise 9:** Use linear regression to predict 'sepal_length' from the other features. Report the R^2 score on the test set.\n",
    "\n",
    "---\n",
    "\n",
    "## 7. Model Evaluation\n",
    "\n",
    "**Exercise 10:** Print the classification report for your classifier. Calculate the mean squared error for your regression model.\n",
    "\n",
    "---"
   ]
  }
 ],
 "metadata": {
  "language_info": {
   "name": "python"
  }
 },
 "nbformat": 4,
 "nbformat_minor": 5
}
